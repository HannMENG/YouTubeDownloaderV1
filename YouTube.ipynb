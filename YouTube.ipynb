{
 "cells": [
  {
   "cell_type": "code",
   "execution_count": 16,
   "metadata": {},
   "outputs": [],
   "source": [
    "from pytube import YouTube\n",
    "\n",
    "yt = YouTube('http://youtube.com/watch?v=2lAe1cqCOXo')  # Download YouTube Rewind 2019\n",
    "streams = set()\n",
    "\n",
    "for stream in yt.streams.filter(resolution=\"720p\",type=\"video/mp4\"):  # Only look for video streams to avoid None values\n",
    "    streams.add(stream.resolution)\n",
    "    print(stream.resolution)\n",
    "\n",
    "# print(streams)\n",
    "\n",
    "# Will give:\n",
    "\n",
    "# {'720p', '144p', '1080p', '240p', '480p', '360p'}\n",
    "# After the user chooses the resolution they want, you can use it to further filter the streams:\n",
    "\n",
    "# for stream in yt.streams.filter(resolution=\"720p\",type=\"video/mp4\"):\n",
    "#     print(stream)\n",
    "# Will give:\n",
    "\n",
    "# <Stream: itag=\"22\" mime_type=\"video/mp4\" res=\"720p\" fps=\"24fps\" vcodec=\"avc1.64001F\" acodec=\"mp4a.40.2\" progressive=\"True\" type=\"video\">\n",
    "# <Stream: itag=\"136\" mime_type=\"video/mp4\" res=\"720p\" fps=\"24fps\" vcodec=\"avc1.4d401f\" progressive=\"False\" type=\"video\">\n",
    "# <Stream: itag=\"247\" mime_type=\"video/webm\" res=\"720p\" fps=\"24fps\" vcodec=\"vp9\" progressive=\"False\" type=\"video\">\n",
    "# <Stream: itag=\"398\" mime_type=\"video/mp4\" res=\"720p\" fps=\"24fps\" vcodec=\"av01.0.05M.08\""
   ]
  },
  {
   "cell_type": "code",
   "execution_count": 19,
   "metadata": {},
   "outputs": [
    {
     "name": "stdout",
     "output_type": "stream",
     "text": [
      "Title: Python GUI Project - Build A YouTube Video Downloader GUI App with Python\n",
      "Author: The Code Dealer\n",
      "Published date: 2022-01-09\n",
      "Number of views: 30881\n",
      "Length of video: 1957 seconds\n",
      "Video successfullly downloaded from https://www.youtube.com/watch?v=TEATfq6hPIg\n"
     ]
    }
   ],
   "source": [
    "import pytube\n",
    "from pathlib import Path\n",
    "import shutil\n",
    "import os\n",
    "\n",
    "link = \"https://www.youtube.com/watch?v=TEATfq6hPIg\"\n",
    "yt = pytube.YouTube(link)\n",
    "print(\"Title:\", yt.title)\n",
    "print(\"Author:\", yt.author)\n",
    "print(\"Published date:\", yt.publish_date.strftime(\"%Y-%m-%d\"))\n",
    "print(\"Number of views:\", yt.views)\n",
    "print(\"Length of video:\", yt.length, \"seconds\")\n",
    "\n",
    "\n",
    "# video = yt.streams.get_highest_resolution().download()\n",
    "downloads_path = str(Path.home() / \"Downloads\")\n",
    "# yt.streams.get_by_resolution(\"720p\").download(downloads_path)\n",
    "# shutil.move(video,downloads_path)\n",
    "yt.streams.get_highest_resolution().download(downloads_path)\n",
    "print(\"Video successfullly downloaded from\", link)"
   ]
  },
  {
   "cell_type": "code",
   "execution_count": 34,
   "metadata": {},
   "outputs": [
    {
     "name": "stdout",
     "output_type": "stream",
     "text": [
      "hello\n"
     ]
    }
   ],
   "source": [
    "f = open('path.txt','r')\n",
    "print(f.readline())\n",
    "f.close()"
   ]
  },
  {
   "cell_type": "code",
   "execution_count": 33,
   "metadata": {},
   "outputs": [],
   "source": [
    "f = open('path.txt','w')\n",
    "t = 'hello'\n",
    "f.write(t)\n",
    "f.close()"
   ]
  }
 ],
 "metadata": {
  "kernelspec": {
   "display_name": "Python 3",
   "language": "python",
   "name": "python3"
  },
  "language_info": {
   "codemirror_mode": {
    "name": "ipython",
    "version": 3
   },
   "file_extension": ".py",
   "mimetype": "text/x-python",
   "name": "python",
   "nbconvert_exporter": "python",
   "pygments_lexer": "ipython3",
   "version": "3.10.9 (tags/v3.10.9:1dd9be6, Dec  6 2022, 20:01:21) [MSC v.1934 64 bit (AMD64)]"
  },
  "orig_nbformat": 4,
  "vscode": {
   "interpreter": {
    "hash": "58dbfdb34cf82127b32c5737e6183911655ff227e5c11e8f5e4b25048ae98ef2"
   }
  }
 },
 "nbformat": 4,
 "nbformat_minor": 2
}
