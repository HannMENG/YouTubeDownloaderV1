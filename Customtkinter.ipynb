{
 "cells": [
  {
   "cell_type": "code",
   "execution_count": null,
   "metadata": {},
   "outputs": [],
   "source": [
    "#install pip install customtkinter\n",
    "# https://github.com/TomSchimansky/CustomTkinter"
   ]
  },
  {
   "cell_type": "code",
   "execution_count": 11,
   "metadata": {},
   "outputs": [],
   "source": [
    "import customtkinter as cs\n",
    "\n",
    "\n",
    "cs.set_appearance_mode(\"light\")#light, dark, system\n",
    "cs.set_default_color_theme('blue')\n",
    "\n",
    "root = cs.CTk()\n",
    "root.geometry(\"500x350\")\n",
    "root.title(\"Login System Modern Interface\")\n",
    "\n",
    "\n",
    "def login():\n",
    "    print(\"test\")\n",
    "\n",
    "#configure font:\n",
    "font_e = cs.CTkFont(family=\"Roboto\", size=40)\n",
    "\n",
    "# font_e.configure(family=\"New Font\")\n",
    "\n",
    "frame = cs.CTkFrame(master=root)\n",
    "frame.pack(pady=10, padx=10, fill='both', expand=True)\n",
    "\n",
    "label = cs.CTkLabel(master=frame, text='Login System',font=font_e)\n",
    "label.pack(pady=12, padx=10)\n",
    "\n",
    "entry1 = cs.CTkEntry(master=frame, placeholder_text=\"Username\")\n",
    "entry1.pack(pady=12,padx=10)\n",
    "\n",
    "entry2 = cs.CTkEntry(master=frame, placeholder_text=\"Password\", show=\"*\")\n",
    "entry2.pack(pady=12,padx=10)\n",
    "\n",
    "button = cs.CTkButton(master=frame, text=\"Login\", command=login)\n",
    "button.pack(pady=12, padx=10)\n",
    "\n",
    "checkbox = cs.CTkCheckBox(master=frame, text='Remember Me')\n",
    "checkbox.pack(pady=12, padx=10)\n",
    "\n",
    "root.mainloop()"
   ]
  },
  {
   "cell_type": "code",
   "execution_count": 1,
   "metadata": {},
   "outputs": [
    {
     "data": {
      "text/plain": [
       "'C:\\\\Users\\\\Admin\\\\Downloads'"
      ]
     },
     "execution_count": 1,
     "metadata": {},
     "output_type": "execute_result"
    }
   ],
   "source": [
    "from pathlib import Path\n",
    "downloads_path = str(Path.home() / \"Downloads\")\n",
    "downloads_path"
   ]
  },
  {
   "cell_type": "code",
   "execution_count": 5,
   "metadata": {},
   "outputs": [],
   "source": [
    "from tkinter import *\n",
    "# from PyDictionary import PyDictionary\n",
    "\n",
    "\n",
    "root = Tk()\n",
    "root.title('Codemy.com - Dictionary')\n",
    "# root.iconbitmap('c:/gui/codemy.ico')\n",
    "root.geometry(\"570x500\")\n",
    "\n",
    "# def lookup():\n",
    "\t# # Clear The text\n",
    "\t# my_text.delete(1.0, END)\n",
    "\n",
    "\t# # Lookup a word\n",
    "\t# dictionary = PyDictionary()\n",
    "\t# definition = dictionary.meaning(my_entry.get())\n",
    "\n",
    "\t# # Add definition to text box\n",
    "\t# #my_text.insert(END, defintion)\n",
    "\n",
    "\t# # Find keys and values in definition\n",
    "\t# for key,value in definition.items():\n",
    "\t# \t# put the key header in textbox\n",
    "\t# \tmy_text.insert(END, key + '\\n\\n')\n",
    "\n",
    "\t# \tfor values in value:\n",
    "\t# \t\tmy_text.insert(END, f'- {values}\\n\\n')\n",
    "\n",
    "\n",
    "\n",
    "\n",
    "my_labelframe = LabelFrame(root, text=\"Enter A Word\")\n",
    "my_labelframe.pack(pady=20)\n",
    "\n",
    "my_entry = Entry(my_labelframe, font=(\"Helvetica\", 28))\n",
    "my_entry.grid(row=0, column=0, padx=10, pady=10)\n",
    "\n",
    "my_button = Button(my_labelframe, text=\"Lookup\", command=\"lookup\")\n",
    "my_button.grid(row=0, column=1, padx=10)\n",
    "\n",
    "my_text = Text(root, height=20, width=65, wrap=WORD)\n",
    "my_text.pack(pady=10)\n",
    "\n",
    "\n",
    "root.mainloop()"
   ]
  }
 ],
 "metadata": {
  "kernelspec": {
   "display_name": "Python 3",
   "language": "python",
   "name": "python3"
  },
  "language_info": {
   "codemirror_mode": {
    "name": "ipython",
    "version": 3
   },
   "file_extension": ".py",
   "mimetype": "text/x-python",
   "name": "python",
   "nbconvert_exporter": "python",
   "pygments_lexer": "ipython3",
   "version": "3.10.9 (tags/v3.10.9:1dd9be6, Dec  6 2022, 20:01:21) [MSC v.1934 64 bit (AMD64)]"
  },
  "orig_nbformat": 4,
  "vscode": {
   "interpreter": {
    "hash": "58dbfdb34cf82127b32c5737e6183911655ff227e5c11e8f5e4b25048ae98ef2"
   }
  }
 },
 "nbformat": 4,
 "nbformat_minor": 2
}
